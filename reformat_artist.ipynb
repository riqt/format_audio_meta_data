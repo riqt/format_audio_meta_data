{
 "cells": [
  {
   "cell_type": "code",
   "execution_count": 30,
   "metadata": {},
   "outputs": [],
   "source": [
    "import os\n",
    "import re\n",
    "\n",
    "from mutagen.aiff import AIFF\n",
    "from mutagen.mp4 import MP4\n",
    "from mutagen.easyid3 import EasyID3"
   ]
  },
  {
   "cell_type": "code",
   "execution_count": 2,
   "metadata": {},
   "outputs": [],
   "source": [
    "album_dir = 'G:\\iTunes\\iTunes Media\\Music\\Compilations\\異次元フェス アイドルマスター★ ラブライブ! 歌合戦 LIVE CD'\n",
    "\n",
    "songs = [song for song in os.listdir(album_dir) if os.path.isfile(os.path.join(album_dir, song))]"
   ]
  },
  {
   "cell_type": "code",
   "execution_count": null,
   "metadata": {},
   "outputs": [],
   "source": [
    "def replace_cv(title):\n",
    "    # ' ('の後に'CV'が続かないときのみ' (CV.'に置き換える\n",
    "    # 入力: [{アーティスト名}]\n",
    "    # 出力: [{CV挿入後のアーティスト名}]\n",
    "    return [re.sub(r' \\((?!CV)', ' (CV.', title[0])]"
   ]
  },
  {
   "cell_type": "code",
   "execution_count": null,
   "metadata": {},
   "outputs": [],
   "source": [
    "for song_title in songs:\n",
    "    song_path = os.path.join(album_dir, song_title)\n",
    "    song = AIFF(song_path)\n",
    "\n",
    "    song['TPE1'].text = replace_cv(song['TPE1'].text)\n",
    "    song.save(song_path)"
   ]
  },
  {
   "cell_type": "code",
   "execution_count": 60,
   "metadata": {},
   "outputs": [
    {
     "name": "stdout",
     "output_type": "stream",
     "text": [
      "['浅利七海 (CV.井上ほの花), 渡辺曜 (CV.斉藤朱夏), 大沢瑠璃乃 (CV.菅叶和)']\n",
      "['嵐千砂都 (CV.岬なこ), 横山奈緒 (CV.渡部優衣), 福丸小糸 (CV.田嶌紗蘭), 鐘嵐珠 (CV.法元明菜)']\n",
      "['大沢瑠璃乃 (CV.菅叶和), 乙倉悠貴 (CV.中島由貴), 箱崎星梨花 (CV.麻倉もも)']\n",
      "['桑山千雪 (CV.芝崎典子), 国木田花丸 (CV.高槻かなこ), エマ・ヴェルデ (CV.指出毬亜), 鬼塚冬毬 (CV.坂倉花), 藤島慈 (CV.月音こな)']\n",
      "['速水奏 (CV.飯田友子), 北上麗花 (CV.平山笑美), 田中摩美々 (CV.菅沼千紗)']\n",
      "['桜内梨子 (CV.逢田梨香子), 朝香果林 (CV.久保田未夢), 若菜四季 (CV.大熊和奏), 夕霧綴理 (CV.佐々木琴子)']\n",
      "['月岡恋鐘 (CV.礒部花凜), 樋口円香 (CV.土屋李央), 七草にちか (CV.紫月杏朱彩), 新田美波 (CV.洲崎綾), 塩見周子 (CV.ルゥ ティン), ナターリア (CV.生田輝), 黒澤ダイヤ (CV.小宮有紗), 桜坂しずく (CV.前田佳織里),']\n",
      "['桜小路きな子 (CV.鈴原希実), 大槻唯 (CV.山下七海), 伊吹翼 (CV.Machico), 市川雛菜 (CV.岡咲美保), 黒澤ルビィ (CV.降幡愛), 中須かすみ (CV.相良茉優), 乙宗梢 (CV.花宮初奈)']\n",
      "['双葉杏 (CV.五十嵐裕美), 春日未来 (CV.山崎はるか), 大崎甘奈 (CV.黒木ほの香), 大崎甜花 (CV.前川涼子), 高海千歌 (CV.伊波杏樹), 宮下愛 (CV.村上奈津実), 澁谷かのん (CV.伊達さゆり), 日野下花帆 (CV.楡井希実)']\n",
      "['最上静香 (CV.田所あずさ), 砂塚あきら (CV.富田美憂), 緋田美琴 (CV.山根綺), 三船栞子 (CV.小泉萌香), ウィーン・マルガレーテ (CV.結那), 村野さやか (CV.野中ここな)']\n",
      "['Aqours, Millionstars']\n",
      "['蓮ノ空女学院スクールアイドルクラブ, CINDERELLA GIRLS']\n",
      "['虹ヶ咲学園スクールアイドル同好会, シャイニーカラーズ']\n",
      "['Millionstars, Liella!']\n",
      "['Aqours, 虹ヶ咲学園スクールアイドル同好会, Liella! , 蓮ノ空女学院スクールアイドルクラブ']\n",
      "['CINDERELLA GIRLS, MILLIONSTARS, シャイニーカラーズ']\n",
      "['CINDERELLA GIRLS, Aqours, MILLIONSTARS, 虹ヶ咲学園スクールアイドル同好会, シャイニーカラーズ, Liella! , 蓮ノ空女学院スクールアイドルクラブ']\n",
      "['天王寺璃奈 (CV.田中ちえ美), 櫻木真乃 (CV.関根瞳), 鬼塚夏美 (CV.絵森彩)']\n",
      "['日野下花帆 (CV.楡井希実), 佐々木千枝 (CV.今井麻夏), 豊川風花 (CV.末柄里恵), 黒澤ルビィ (CV.降幡愛)']\n",
      "['上原歩夢 (CV.大西亜玖璃), 佐城雪美 (CV.中澤ミナ), 七尾百合子 (CV.伊藤美来)']\n",
      "['有栖川夏葉 (CV.涼本あきほ), 桜内梨子 (CV.逢田梨香子), 米女メイ (CV.薮島朱音), 夕霧綴理 (CV.佐々木琴子)']\n",
      "['結城晴 (CV.小市眞琴), 杜野凛世 (CV.丸岡和佳奈), 乙宗梢 (CV.花宮初奈)']\n",
      "['白石紬 (CV.南早紀), 黒澤ダイヤ (CV.小宮有紗), ミア・テイラー (CV.内田秀), 葉月恋 (CV.青山なぎさ)']\n",
      "['ジュリア (CV.愛美), 桜森歌織 (CV.香里有佐), 高山紗代子 (CV.駒形友梨), 豊川風花 (CV.末柄里恵)']\n",
      "['島村卯月 (CV.大橋彩香), 渋谷凛 (CV.福原綾香), 本田未央 (CV.原紗友里), 赤城みりあ (CV.黒沢ともよ), 龍崎薫 (CV.春瀬なつみ), 古賀小春 (CV.小森結梨), 遊佐こずえ (CV.花谷麻妃)']\n",
      "['Aqours, Millionstars']\n",
      "['Liella!, CINDERELLA GIRLS']\n",
      "['日野下花帆 (CV.楡井希実), 乙宗梢 (CV.花宮初奈), 矢吹可奈 (CV.木戸衣吹), 桜森歌織 (CV.香里有佐), 小宮果穂 (CV.河野ひより), 芹沢あさひ (CV.田中有紀), 鬼塚夏美 (CV.絵森彩), 鬼塚冬毬 (CV.坂倉花)']\n",
      "['和泉愛依 (CV.北原沙弥香), 的場梨沙 (CV.集貝はな), 高山紗代子 (CV.駒形友梨), 渡辺曜 (CV.斉藤朱夏), 優木せつ菜 (CV.林鼓子), 嵐千砂都 (CV.岬なこ), 若菜四季 (CV.大熊和奏), 村野さやか (CV.野中ここな)']\n",
      "['ジュリア (CV.愛美), 渋谷凛 (CV.福原綾香), 斑鳩ルカ (CV.川口莉奈), 黒澤ダイヤ (CV.小宮有紗), 澁谷かのん (CV.伊達さゆり), 藤島慈 (CV.月音こな)']\n",
      "['近江彼方(鬼頭明里), 三船栞子(小泉萌香), 島村卯月(大橋彩香), 本田未央(原紗友里), 豊川風花(末柄里恵), 百瀬莉緒(山口立花子), 八宮めぐる(峯田茉優), 黛冬優子(幸村恵理), 高海千歌(伊波']\n",
      "['黒澤ルビィ(降幡愛), 橘ありす (CV.佐藤亜美菜), 赤城みりあ (CV.黒沢ともよ), 的場梨沙 (CV.集貝はな), 結城晴 (CV.小市眞琴), 佐々木千枝 (CV.今井麻夏), 龍崎薫 (CV.春瀬なつみ), 市原仁奈 (CV.久野美咲), 古賀小']\n",
      "['シャイイニーカラーズ, 蓮ノ空女学院スクールアイドルクラブ']\n",
      "['CINDERELLA GIRLS, MILLIONSTARS, シャイニーカラーズ']\n",
      "['Aqours, 虹ヶ咲学園スクールアイドル同好会, Liella! , 蓮ノ空女学院スクールアイドルクラブ']\n",
      "['CINDERELLA GIRLS, Aqours, MILLIONSTARS, 虹ヶ咲学園スクールアイドル同好会, シャイニーカラーズ, Liella! , 蓮ノ空女学院スクールアイドルクラブ']\n"
     ]
    }
   ],
   "source": [
    "songs = [song for song in os.listdir(album_dir) if os.path.isfile(os.path.join(album_dir, song))]\n",
    "for song_title in songs:\n",
    "    song_path = os.path.join(album_dir, song_title)\n",
    "    song = AIFF(song_path)\n",
    "    print(song['TPE1'].text)"
   ]
  },
  {
   "cell_type": "code",
   "execution_count": 51,
   "metadata": {},
   "outputs": [
    {
     "data": {
      "text/plain": [
       "TPE1(encoding=<Encoding.UTF16: 1>, text=['浅利七海 (CV.井上ほの花), 渡辺曜 (CV.斉藤朱夏), 大沢瑠璃乃 (CV.菅叶和)'])"
      ]
     },
     "execution_count": 51,
     "metadata": {},
     "output_type": "execute_result"
    }
   ],
   "source": [
    "song_path = os.path.join(album_dir, songs[0])\n",
    "\n",
    "song = AIFF(song_path)\n",
    "\n",
    "song.get('TPE1')"
   ]
  }
 ],
 "metadata": {
  "kernelspec": {
   "display_name": "Python 3",
   "language": "python",
   "name": "python3"
  },
  "language_info": {
   "codemirror_mode": {
    "name": "ipython",
    "version": 3
   },
   "file_extension": ".py",
   "mimetype": "text/x-python",
   "name": "python",
   "nbconvert_exporter": "python",
   "pygments_lexer": "ipython3",
   "version": "3.10.4"
  }
 },
 "nbformat": 4,
 "nbformat_minor": 2
}
